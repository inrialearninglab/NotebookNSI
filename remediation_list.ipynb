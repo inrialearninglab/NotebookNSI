{
 "cells": [
  {
   "cell_type": "markdown",
   "metadata": {},
   "source": [
    "# tableaux recherche : ça matche !\n",
    "\n",
    "d'après le site https://progalgo.fr/"
   ]
  },
  {
   "cell_type": "markdown",
   "metadata": {},
   "source": [
    "*Question  :*\n",
    "    \n",
    "Ecrire une fonction `match`  qui prend en paramètres deux tableaux `tab_a` et `tab_b` de même longueur et qui :\n",
    "- renvoie le plus petit indice `i` pour lequel `tab_a[i] == tab_b[i]` si cet indice existe,\n",
    "- renvoie `-1` sinon."
   ]
  },
  {
   "cell_type": "markdown",
   "metadata": {},
   "source": [
    "La **remédiation** pédagogique est un moyen permettant de pallier des lacunes d’apprentissage.\n",
    "\n",
    "Le diagnostic de ces difficultés se réalise lors d’évaluations. \n",
    "\n",
    "Ainsi on pourra orienter vers des propositions de correction.\n",
    "\n",
    "\n",
    "Il s’agit alors d’exposer les informations, une nouvelle fois, mais sous une forme différente.\n",
    "On pourra aussi apporter une remédiation dédiée au type de difficulté rencontré.\n",
    "\n",
    "Le Feedback ou rétroaction sur un travail effectué par l’élève est très important dans le processus d’apprentissage \n",
    "car il lui permet de se positionner. \n",
    "\n",
    "Vous trouverez ci-dessous plusieurs possibilités.\n"
   ]
  },
  {
   "cell_type": "markdown",
   "metadata": {},
   "source": [
    "### 1. Tester à la main\n",
    "\n",
    "Il s'agit de savoir si l'élève a compris l'énoncé du problème. On s'aperçoit en classe que de nombreux élèves lisent en diagonale un énoncé. Cette phase à la main permet de commencer la reflexion sur la construction de la fonction.\n",
    "\n",
    "On pourra ou non donner la solution (en cliquant sur le bouton). "
   ]
  },
  {
   "cell_type": "markdown",
   "metadata": {},
   "source": [
    "\n",
    "```python\n",
    "Que renvoie match([77, 5, 8, 9, 3, 9], [77, 1, 9, 8, 5, 6]) ?\n",
    "Que renvoie match([1, 77, 8, 9, 3, 9], [2, 77, 9, 8, 5, 6]) ?\n",
    "Que renvoie match([3, 9, 7, 2, 5, 4], [33, 99, 77, 2, 5, 4]) ?\n",
    "Que renvoie match([3, 9, 7, 2, 5, 4], [33, 99, 77, 22, 55, 4]) ?\n",
    "Que renvoie match([1, 5, 8, 9, 3, 9, 7, 12, 5, 4], [5, 1, 9, 8, 5, 6, 3, 2, 1, 4]) ?\n",
    "Que renvoie match([6, 7, 8, 9], [1, 2, 3, 4]) == ?\n",
    "Que renvoie match([], []) == ?\n",
    "```\n",
    "  \n"
   ]
  },
  {
   "cell_type": "markdown",
   "metadata": {},
   "source": [
    "<details>\n",
    "<summary style=\"border:1pt solid slateblue; border-radius:5pt; width:15%; color:slateblue; padding:3px; background-color: lightcyan\"> Solution </summary>  \n",
    "    \n",
    "<div style=\"border:1pt solid slateblue; border-radius:5pt; color:slateblue; padding:3px; background-color: lightcyan\"> \n",
    "    \n",
    "    \n",
    "```python \n",
    "match([77, 5, 8, 9, 3, 9], [77, 1, 9, 8, 5, 6]) renvoie 0\n",
    "match([1, 77, 8, 9, 3, 9], [2, 77, 9, 8, 5, 6]) renvoie 1\n",
    "match([3, 9, 7, 2, 5, 4], [33, 99, 77, 2, 5, 4]) renvoie 3\n",
    "match([3, 9, 7, 2, 5, 4], [33, 99, 77, 22, 55, 4]) renvoie 5\n",
    "match([1, 5, 8, 9, 3, 9, 7, 12, 5, 4], [5, 1, 9, 8, 5, 6, 3, 2, 1, 4]) renvoie 9\n",
    "match([6, 7, 8, 9], [1, 2, 3, 4]) renvoie -1\n",
    "    \n",
    "```\n",
    "</div>\n",
    "</details>\n",
    "\n"
   ]
  },
  {
   "cell_type": "markdown",
   "metadata": {},
   "source": [
    "### 2. Façon puzzle\n",
    "\n",
    "1. Le programme est donné mais dans le désordre. \n",
    "Il s'agit de remettre en ordre les différentes lignes de la fonction. \n"
   ]
  },
  {
   "cell_type": "code",
   "execution_count": null,
   "metadata": {
    "tags": []
   },
   "outputs": [],
   "source": [
    "from IPython.display import IFrame\n",
    "IFrame('https://www.codepuzzle.io/iframe/MLU7', width='100%', height=600)"
   ]
  },
  {
   "cell_type": "markdown",
   "metadata": {},
   "source": [
    "2. Le programme est donné mais dans le désordre. \n",
    "Il s'agit de remettre en ordre les différentes lignes de la fonction. \n",
    "\n",
    "Des lignes inutiles sont ajoutées en fonction des erreurs constatées. \n"
   ]
  },
  {
   "cell_type": "code",
   "execution_count": null,
   "metadata": {},
   "outputs": [],
   "source": [
    "from IPython.display import IFrame\n",
    "IFrame('https://www.codepuzzle.io/iframe/TLAV', width='100%', height=600)"
   ]
  },
  {
   "cell_type": "markdown",
   "metadata": {},
   "source": [
    "### 3. A trou avec ou sans solution solution\n",
    "\n",
    "Il s'agit de compléter les trous laisser dans la fonction. On pourra ou non donner la solution (en cliquant sur le bouton). "
   ]
  },
  {
   "cell_type": "code",
   "execution_count": null,
   "metadata": {},
   "outputs": [],
   "source": [
    "def match(tab_a, tab_b):\n",
    "    for i in range(...):\n",
    "        if ... == ... :\n",
    "            return ...\n",
    "    return ..."
   ]
  },
  {
   "cell_type": "markdown",
   "metadata": {},
   "source": [
    "<details>\n",
    "<summary style=\"border:1pt solid slateblue; border-radius:5pt; width:15%; color:slateblue; padding:3px; background-color: lightcyan\"> Solution </summary>  \n",
    "    \n",
    "<div style=\"border:1pt solid slateblue; border-radius:5pt; color:slateblue; padding:3px; background-color: lightcyan\"> \n",
    "    \n",
    "    \n",
    "```python\n",
    "def match(tab_a, tab_b):\n",
    "    for i in range(len(tab_a)):\n",
    "         if tab_a[i] == tab_b[i]:\n",
    "            return i\n",
    "    return -1\n",
    "```\n",
    "</div>\n",
    "</details>"
   ]
  },
  {
   "cell_type": "markdown",
   "metadata": {},
   "source": [
    "### 4. Des tests pour se corriger"
   ]
  },
  {
   "cell_type": "markdown",
   "metadata": {},
   "source": [
    "Il s'agit de donner des tests permettant à l'élève de vérifier son travail. Et ansi suivant les réponses de se corriger.\n",
    "\n",
    "On peut aussi demander à l'élève ou à la classe, avant de répondre à la question, de créer une série de tests."
   ]
  },
  {
   "cell_type": "code",
   "execution_count": null,
   "metadata": {},
   "outputs": [],
   "source": [
    "assert match([77, 5, 8, 9, 3, 9], [77, 1, 9, 8, 5, 6]) == 0\n",
    "assert match([1, 77, 8, 9, 3, 9], [2, 77, 9, 8, 5, 6]) == 1\n",
    "\n",
    "assert match([3, 9, 7, 2, 5, 4], [33, 99, 77, 2, 5, 4]) == 3\n",
    "assert match([3, 9, 7, 2, 5, 4], [33, 99, 77, 22, 55, 4]) == 5\n",
    "\n",
    "assert match([1, 5, 8, 9, 3, 9, 7, 12, 5, 4], [5, 1, 9, 8, 5, 6, 3, 2, 1, 4]) == 9\n",
    "\n",
    "\n",
    "assert match([6, 7, 8, 9], [1, 2, 3, 4]) == -1\n",
    "assert match([], []) == -1"
   ]
  },
  {
   "cell_type": "markdown",
   "metadata": {},
   "source": [
    "### 5. Des questions.. \n",
    "\n",
    "On peut proposer des questions pour aider l'élève à répondre à la question. Avec ou sans solution.\n"
   ]
  },
  {
   "cell_type": "markdown",
   "metadata": {},
   "source": [
    "*Question 1 :* \n",
    "\n",
    "Pourquoi est-il nécessaire d'effectuer un parcours par indice ?\n",
    "\n",
    "Il est nécessaire d'effectuer un parcours par indice car ..."
   ]
  },
  {
   "cell_type": "markdown",
   "metadata": {},
   "source": [
    "<details>\n",
    "<summary style=\"border:1pt solid slateblue; border-radius:5pt; width:15%; color:slateblue; padding:3px; background-color: lightcyan\"> Solution </summary>  \n",
    "    \n",
    "<div style=\"border:1pt solid slateblue; border-radius:5pt; color:slateblue; padding:3px; background-color: lightcyan\"> \n",
    "    \n",
    "    \n",
    "Il est nécessaire ici d'effectuer un parcours par indice et pas pas élément car on doit parcourir deux tableaux en parallèle ce qui nécessite de connaître la position - c'st à dire l'indice - où l'on se trouve lors du parcours.\n",
    "    \n",
    "Par ailleurs ici on demande à renvoyer l'indice ...\n",
    "</div>\n",
    "</details>"
   ]
  },
  {
   "cell_type": "markdown",
   "metadata": {},
   "source": [
    "*Question 2 :*  \n",
    "Rajouter à votre fonction `match` une assertion correspondant à la précondition mentionnée dans l'énoncé."
   ]
  },
  {
   "cell_type": "markdown",
   "metadata": {},
   "source": [
    "<details>\n",
    "<summary style=\"border:1pt solid slateblue; border-radius:5pt; width:15%; color:slateblue; padding:3px; background-color: lightcyan\"> Solution </summary>  \n",
    "    \n",
    "<div style=\"border:1pt solid slateblue; border-radius:5pt; color:slateblue; padding:3px; background-color: lightcyan\"> \n",
    "    \n",
    "```python\n",
    "assert len(tab_a) == len(tab_b), \"Les tableaux doivent avoir la même longueur.\"\n",
    "```\n",
    "</div>\n",
    "</details>"
   ]
  },
  {
   "cell_type": "markdown",
   "metadata": {},
   "source": [
    "### 6. Python tutor\n",
    "\n",
    "On peut présenter la solution en utilisant Python tutor qui permet de suivre l'exécution du programme pas à pas.\n",
    "\n",
    "On place des print pour une meilleure compréhension. On présente des exemples variées proposant les différents cas."
   ]
  },
  {
   "cell_type": "code",
   "execution_count": null,
   "metadata": {
    "scrolled": true
   },
   "outputs": [],
   "source": [
    "from tutor import tutor\n",
    "\n",
    "def match(tab_a, tab_b):\n",
    "    for i in range(len(tab_a)):\n",
    "        print(\"i prend pour valeur \",i)\n",
    "        print(\"On teste \", tab_a[i],\" et\" ,tab_b[i] )\n",
    "        if tab_a[i] == tab_b[i]:\n",
    "            print(\"Le test d'égalité est vrai. On renvoie l'indice\")\n",
    "            return i\n",
    "    print(\"Aucun test n'est vrai. On renvoie la valeur -1\")\n",
    "    return -1\n",
    "\n",
    "match([6, 7, 8, 9], [1, 2, 3, 4])\n",
    "\n",
    "tutor()"
   ]
  },
  {
   "cell_type": "code",
   "execution_count": null,
   "metadata": {},
   "outputs": [],
   "source": [
    "from tutor import tutor\n",
    "\n",
    "def match(tab_a, tab_b):\n",
    "    for i in range(len(tab_a)):\n",
    "        print(\"i prend pour valeur \",i)\n",
    "        print(\"On teste \", tab_a[i],\" et\" ,tab_b[i] )\n",
    "        if tab_a[i] == tab_b[i]:\n",
    "            print(\"Le test d'égalité est vrai. On renvoie l'indice\")\n",
    "            return i\n",
    "    print(\"Aucun test n'est vrai. On renvoie la valeur -1\")\n",
    "    return -1\n",
    "\n",
    "match([3, 9, 7, 2, 5, 4], [33, 99, 77, 2, 5, 4])\n",
    "\n",
    "tutor()"
   ]
  },
  {
   "cell_type": "code",
   "execution_count": null,
   "metadata": {},
   "outputs": [],
   "source": []
  }
 ],
 "metadata": {
  "kernelspec": {
   "display_name": "Python 3 (ipykernel)",
   "language": "python",
   "name": "python3"
  },
  "language_info": {
   "codemirror_mode": {
    "name": "ipython",
    "version": 3
   },
   "file_extension": ".py",
   "mimetype": "text/x-python",
   "name": "python",
   "nbconvert_exporter": "python",
   "pygments_lexer": "ipython3",
   "version": "3.9.7"
  }
 },
 "nbformat": 4,
 "nbformat_minor": 4
}
